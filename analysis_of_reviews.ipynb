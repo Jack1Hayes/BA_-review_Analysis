{
  "nbformat": 4,
  "nbformat_minor": 0,
  "metadata": {
    "colab": {
      "provenance": [],
      "authorship_tag": "ABX9TyMEseAGem7zUNWFJNGhKX1v",
      "include_colab_link": true
    },
    "kernelspec": {
      "name": "python3",
      "display_name": "Python 3"
    },
    "language_info": {
      "name": "python"
    }
  },
  "cells": [
    {
      "cell_type": "markdown",
      "metadata": {
        "id": "view-in-github",
        "colab_type": "text"
      },
      "source": [
        "<a href=\"https://colab.research.google.com/github/Jack1Hayes/BA_-review_Analysis/blob/main/analysis_of_reviews.ipynb\" target=\"_parent\"><img src=\"https://colab.research.google.com/assets/colab-badge.svg\" alt=\"Open In Colab\"/></a>"
      ]
    },
    {
      "cell_type": "code",
      "source": [
        "!pip install pyldavis\n"
      ],
      "metadata": {
        "colab": {
          "base_uri": "https://localhost:8080/"
        },
        "id": "SNifykgdyHZQ",
        "outputId": "1c098c9c-e0f8-40be-f715-473fea0e3431"
      },
      "execution_count": null,
      "outputs": [
        {
          "output_type": "stream",
          "name": "stdout",
          "text": [
            "Looking in indexes: https://pypi.org/simple, https://us-python.pkg.dev/colab-wheels/public/simple/\n",
            "Requirement already satisfied: pyldavis in /usr/local/lib/python3.8/dist-packages (3.3.1)\n",
            "Requirement already satisfied: numpy>=1.20.0 in /usr/local/lib/python3.8/dist-packages (from pyldavis) (1.21.6)\n",
            "Requirement already satisfied: sklearn in /usr/local/lib/python3.8/dist-packages (from pyldavis) (0.0.post1)\n",
            "Requirement already satisfied: scikit-learn in /usr/local/lib/python3.8/dist-packages (from pyldavis) (1.0.2)\n",
            "Requirement already satisfied: pandas>=1.2.0 in /usr/local/lib/python3.8/dist-packages (from pyldavis) (1.3.5)\n",
            "Requirement already satisfied: setuptools in /usr/local/lib/python3.8/dist-packages (from pyldavis) (57.4.0)\n",
            "Requirement already satisfied: scipy in /usr/local/lib/python3.8/dist-packages (from pyldavis) (1.7.3)\n",
            "Requirement already satisfied: future in /usr/local/lib/python3.8/dist-packages (from pyldavis) (0.16.0)\n",
            "Requirement already satisfied: joblib in /usr/local/lib/python3.8/dist-packages (from pyldavis) (1.2.0)\n",
            "Requirement already satisfied: funcy in /usr/local/lib/python3.8/dist-packages (from pyldavis) (1.17)\n",
            "Requirement already satisfied: gensim in /usr/local/lib/python3.8/dist-packages (from pyldavis) (3.6.0)\n",
            "Requirement already satisfied: numexpr in /usr/local/lib/python3.8/dist-packages (from pyldavis) (2.8.4)\n",
            "Requirement already satisfied: jinja2 in /usr/local/lib/python3.8/dist-packages (from pyldavis) (2.11.3)\n",
            "Requirement already satisfied: pytz>=2017.3 in /usr/local/lib/python3.8/dist-packages (from pandas>=1.2.0->pyldavis) (2022.7)\n",
            "Requirement already satisfied: python-dateutil>=2.7.3 in /usr/local/lib/python3.8/dist-packages (from pandas>=1.2.0->pyldavis) (2.8.2)\n",
            "Requirement already satisfied: smart-open>=1.2.1 in /usr/local/lib/python3.8/dist-packages (from gensim->pyldavis) (6.3.0)\n",
            "Requirement already satisfied: six>=1.5.0 in /usr/local/lib/python3.8/dist-packages (from gensim->pyldavis) (1.15.0)\n",
            "Requirement already satisfied: MarkupSafe>=0.23 in /usr/local/lib/python3.8/dist-packages (from jinja2->pyldavis) (2.0.1)\n",
            "Requirement already satisfied: threadpoolctl>=2.0.0 in /usr/local/lib/python3.8/dist-packages (from scikit-learn->pyldavis) (3.1.0)\n"
          ]
        }
      ]
    },
    {
      "cell_type": "code",
      "execution_count": null,
      "metadata": {
        "id": "N-JyfKKcw-sY"
      },
      "outputs": [],
      "source": [
        "import numpy as np\n",
        "import pandas as pd\n",
        "import spacy\n",
        "import re\n",
        "import seaborn as sns\n",
        "import matplotlib.pyplot as plt\n",
        "import glob\n",
        "\n",
        "import gensim\n",
        "import gensim.corpora as corpora\n",
        "from gensim.models import CoherenceModel\n",
        "\n",
        "import pyLDAvis\n",
        "import pyLDAvis.gensim_models\n",
        "\n",
        "import warnings\n",
        "warnings.filterwarnings(\"ignore\", category=DeprecationWarning)\n",
        "warnings.filterwarnings(\"ignore\", category=FutureWarning)\n"
      ]
    },
    {
      "cell_type": "code",
      "source": [
        "nlp = spacy.load(\"en_core_web_sm\")"
      ],
      "metadata": {
        "id": "AcD9iTu_ybYC"
      },
      "execution_count": null,
      "outputs": []
    },
    {
      "cell_type": "code",
      "source": [
        "Review_table = pd.read_csv('/content/Clean_data.csv')\n",
        "Review_table = Review_table[Review_table.Recommended != 'yes']"
      ],
      "metadata": {
        "id": "DBFSHnV8yhXv"
      },
      "execution_count": null,
      "outputs": []
    },
    {
      "cell_type": "code",
      "source": [
        "Review_table.head()"
      ],
      "metadata": {
        "colab": {
          "base_uri": "https://localhost:8080/",
          "height": 751
        },
        "id": "ZdH4phA7yxMJ",
        "outputId": "51eb88a5-79a0-4cbb-bd24-9faf7674a265"
      },
      "execution_count": null,
      "outputs": [
        {
          "output_type": "execute_result",
          "data": {
            "text/plain": [
              "       verification                                            reviews  \\\n",
              "0  ✅ Trip Verified     Vancouver to Delhi via London. We were booke...   \n",
              "2  ✅ Trip Verified     Another BA Shambles. Started off well with e...   \n",
              "3     Not Verified     BA cancelled my flight home to Heathrow on D...   \n",
              "4     Not Verified     BA cancelled my flight home, the last flight...   \n",
              "5  ✅ Trip Verified    Turned up 3.5 hours in advance, Terminal 5 at...   \n",
              "\n",
              "                                     header         country            Name  \\\n",
              "0          \"felt misguided and misinformed\"          Canada       D Bartul    \n",
              "2        \"treat your customers like idiots\"  United Kingdom   Amanda Edgar    \n",
              "3  \"cancelled only 4 hours before take off\"  United Kingdom  Andrew Wilkes    \n",
              "4          \"have to use other airlines now\"  United Kingdom    Nick Walker    \n",
              "5       \"my suitcase didn’t arrive with me\"  United Kingdom         E King    \n",
              "\n",
              "                  date        Aircraft Type Of Traveller       Seat Type  \\\n",
              "0   28th December 2022             NaN    Family Leisure   Economy Class   \n",
              "2   22nd December 2022  Boeing 777-300    Couple Leisure     First Class   \n",
              "3   20th December 2022            A320      Solo Leisure   Economy Class   \n",
              "4   19th December 2022             NaN          Business  Business Class   \n",
              "5   19th December 2022             NaN      Solo Leisure   Economy Class   \n",
              "\n",
              "                                 Route  ... Recommended neg score  neu score  \\\n",
              "0        Vancouver to Delhi via London  ...          no      15.2       81.3   \n",
              "2                       London to Male  ...          no      13.4       71.5   \n",
              "3          Keflavik to London Heathrow  ...          no      13.2       84.0   \n",
              "4         London Heathrow to Frankfurt  ...          no      10.3       84.9   \n",
              "5  London Heathrow to Bangkok via Doha  ...          no      13.5       80.2   \n",
              "\n",
              "   pos score  textblob  textblob_pol  \\\n",
              "0        3.5  0.402693      0.020545   \n",
              "2       15.1  0.537500      0.293125   \n",
              "3        2.8  0.436667     -0.227500   \n",
              "4        4.8  0.364394     -0.020455   \n",
              "5        6.3  0.374123     -0.021053   \n",
              "\n",
              "                                        Noun Phrases  \\\n",
              "0  ['  Vancouver', 'Delhi', 'London', 'We', 'Vanc...   \n",
              "2  ['  Another BA Shambles', 'excellent check', '...   \n",
              "3  ['BA', 'my flight home', 'Heathrow', 'Dec 19th...   \n",
              "4  ['BA', 'my flight home', 'the day', 'Heathrow'...   \n",
              "5  ['advance', 'Terminal', 'London Heathrow', 'pe...   \n",
              "\n",
              "                                               Verbs  \\\n",
              "0  ['book', 'fly', 'receive', 'inform', 'call', '...   \n",
              "2  ['start', 'avoid', 'call', 'jostle', 'get', 'c...   \n",
              "3  ['cancel', 'cancel', 'take', 'struggle', 'get'...   \n",
              "4  ['cancel', 'try', 'push', 'want', 'try', 'cros...   \n",
              "5  ['turn', 'try', 'check', 'man', 'stress', 'pus...   \n",
              "\n",
              "                                                docs  \\\n",
              "0    Vancouver to Delhi via London. We were booke...   \n",
              "2    Another BA Shambles. Started off well with e...   \n",
              "3    BA cancelled my flight home to Heathrow on D...   \n",
              "4    BA cancelled my flight home, the last flight...   \n",
              "5   Turned up 3.5 hours in advance, Terminal 5 at...   \n",
              "\n",
              "                                               token  \n",
              "0  ['  ', 'vancouver', 'delhi', 'london', 'book',...  \n",
              "2  ['  ', 'ba', 'shambles', 'start', 'excellent',...  \n",
              "3  ['  ', 'ba', 'cancel', 'flight', 'home', 'heat...  \n",
              "4  ['  ', 'ba', 'cancel', 'flight', 'home', 'flig...  \n",
              "5  [' ', 'turn', '3.5', 'hour', 'advance', 'termi...  \n",
              "\n",
              "[5 rows x 21 columns]"
            ],
            "text/html": [
              "\n",
              "  <div id=\"df-32c2d123-b4ca-4d6f-8b7e-b43df7eb8304\">\n",
              "    <div class=\"colab-df-container\">\n",
              "      <div>\n",
              "<style scoped>\n",
              "    .dataframe tbody tr th:only-of-type {\n",
              "        vertical-align: middle;\n",
              "    }\n",
              "\n",
              "    .dataframe tbody tr th {\n",
              "        vertical-align: top;\n",
              "    }\n",
              "\n",
              "    .dataframe thead th {\n",
              "        text-align: right;\n",
              "    }\n",
              "</style>\n",
              "<table border=\"1\" class=\"dataframe\">\n",
              "  <thead>\n",
              "    <tr style=\"text-align: right;\">\n",
              "      <th></th>\n",
              "      <th>verification</th>\n",
              "      <th>reviews</th>\n",
              "      <th>header</th>\n",
              "      <th>country</th>\n",
              "      <th>Name</th>\n",
              "      <th>date</th>\n",
              "      <th>Aircraft</th>\n",
              "      <th>Type Of Traveller</th>\n",
              "      <th>Seat Type</th>\n",
              "      <th>Route</th>\n",
              "      <th>...</th>\n",
              "      <th>Recommended</th>\n",
              "      <th>neg score</th>\n",
              "      <th>neu score</th>\n",
              "      <th>pos score</th>\n",
              "      <th>textblob</th>\n",
              "      <th>textblob_pol</th>\n",
              "      <th>Noun Phrases</th>\n",
              "      <th>Verbs</th>\n",
              "      <th>docs</th>\n",
              "      <th>token</th>\n",
              "    </tr>\n",
              "  </thead>\n",
              "  <tbody>\n",
              "    <tr>\n",
              "      <th>0</th>\n",
              "      <td>✅ Trip Verified</td>\n",
              "      <td>Vancouver to Delhi via London. We were booke...</td>\n",
              "      <td>\"felt misguided and misinformed\"</td>\n",
              "      <td>Canada</td>\n",
              "      <td>D Bartul</td>\n",
              "      <td>28th December 2022</td>\n",
              "      <td>NaN</td>\n",
              "      <td>Family Leisure</td>\n",
              "      <td>Economy Class</td>\n",
              "      <td>Vancouver to Delhi via London</td>\n",
              "      <td>...</td>\n",
              "      <td>no</td>\n",
              "      <td>15.2</td>\n",
              "      <td>81.3</td>\n",
              "      <td>3.5</td>\n",
              "      <td>0.402693</td>\n",
              "      <td>0.020545</td>\n",
              "      <td>['  Vancouver', 'Delhi', 'London', 'We', 'Vanc...</td>\n",
              "      <td>['book', 'fly', 'receive', 'inform', 'call', '...</td>\n",
              "      <td>Vancouver to Delhi via London. We were booke...</td>\n",
              "      <td>['  ', 'vancouver', 'delhi', 'london', 'book',...</td>\n",
              "    </tr>\n",
              "    <tr>\n",
              "      <th>2</th>\n",
              "      <td>✅ Trip Verified</td>\n",
              "      <td>Another BA Shambles. Started off well with e...</td>\n",
              "      <td>\"treat your customers like idiots\"</td>\n",
              "      <td>United Kingdom</td>\n",
              "      <td>Amanda Edgar</td>\n",
              "      <td>22nd December 2022</td>\n",
              "      <td>Boeing 777-300</td>\n",
              "      <td>Couple Leisure</td>\n",
              "      <td>First Class</td>\n",
              "      <td>London to Male</td>\n",
              "      <td>...</td>\n",
              "      <td>no</td>\n",
              "      <td>13.4</td>\n",
              "      <td>71.5</td>\n",
              "      <td>15.1</td>\n",
              "      <td>0.537500</td>\n",
              "      <td>0.293125</td>\n",
              "      <td>['  Another BA Shambles', 'excellent check', '...</td>\n",
              "      <td>['start', 'avoid', 'call', 'jostle', 'get', 'c...</td>\n",
              "      <td>Another BA Shambles. Started off well with e...</td>\n",
              "      <td>['  ', 'ba', 'shambles', 'start', 'excellent',...</td>\n",
              "    </tr>\n",
              "    <tr>\n",
              "      <th>3</th>\n",
              "      <td>Not Verified</td>\n",
              "      <td>BA cancelled my flight home to Heathrow on D...</td>\n",
              "      <td>\"cancelled only 4 hours before take off\"</td>\n",
              "      <td>United Kingdom</td>\n",
              "      <td>Andrew Wilkes</td>\n",
              "      <td>20th December 2022</td>\n",
              "      <td>A320</td>\n",
              "      <td>Solo Leisure</td>\n",
              "      <td>Economy Class</td>\n",
              "      <td>Keflavik to London Heathrow</td>\n",
              "      <td>...</td>\n",
              "      <td>no</td>\n",
              "      <td>13.2</td>\n",
              "      <td>84.0</td>\n",
              "      <td>2.8</td>\n",
              "      <td>0.436667</td>\n",
              "      <td>-0.227500</td>\n",
              "      <td>['BA', 'my flight home', 'Heathrow', 'Dec 19th...</td>\n",
              "      <td>['cancel', 'cancel', 'take', 'struggle', 'get'...</td>\n",
              "      <td>BA cancelled my flight home to Heathrow on D...</td>\n",
              "      <td>['  ', 'ba', 'cancel', 'flight', 'home', 'heat...</td>\n",
              "    </tr>\n",
              "    <tr>\n",
              "      <th>4</th>\n",
              "      <td>Not Verified</td>\n",
              "      <td>BA cancelled my flight home, the last flight...</td>\n",
              "      <td>\"have to use other airlines now\"</td>\n",
              "      <td>United Kingdom</td>\n",
              "      <td>Nick Walker</td>\n",
              "      <td>19th December 2022</td>\n",
              "      <td>NaN</td>\n",
              "      <td>Business</td>\n",
              "      <td>Business Class</td>\n",
              "      <td>London Heathrow to Frankfurt</td>\n",
              "      <td>...</td>\n",
              "      <td>no</td>\n",
              "      <td>10.3</td>\n",
              "      <td>84.9</td>\n",
              "      <td>4.8</td>\n",
              "      <td>0.364394</td>\n",
              "      <td>-0.020455</td>\n",
              "      <td>['BA', 'my flight home', 'the day', 'Heathrow'...</td>\n",
              "      <td>['cancel', 'try', 'push', 'want', 'try', 'cros...</td>\n",
              "      <td>BA cancelled my flight home, the last flight...</td>\n",
              "      <td>['  ', 'ba', 'cancel', 'flight', 'home', 'flig...</td>\n",
              "    </tr>\n",
              "    <tr>\n",
              "      <th>5</th>\n",
              "      <td>✅ Trip Verified</td>\n",
              "      <td>Turned up 3.5 hours in advance, Terminal 5 at...</td>\n",
              "      <td>\"my suitcase didn’t arrive with me\"</td>\n",
              "      <td>United Kingdom</td>\n",
              "      <td>E King</td>\n",
              "      <td>19th December 2022</td>\n",
              "      <td>NaN</td>\n",
              "      <td>Solo Leisure</td>\n",
              "      <td>Economy Class</td>\n",
              "      <td>London Heathrow to Bangkok via Doha</td>\n",
              "      <td>...</td>\n",
              "      <td>no</td>\n",
              "      <td>13.5</td>\n",
              "      <td>80.2</td>\n",
              "      <td>6.3</td>\n",
              "      <td>0.374123</td>\n",
              "      <td>-0.021053</td>\n",
              "      <td>['advance', 'Terminal', 'London Heathrow', 'pe...</td>\n",
              "      <td>['turn', 'try', 'check', 'man', 'stress', 'pus...</td>\n",
              "      <td>Turned up 3.5 hours in advance, Terminal 5 at...</td>\n",
              "      <td>[' ', 'turn', '3.5', 'hour', 'advance', 'termi...</td>\n",
              "    </tr>\n",
              "  </tbody>\n",
              "</table>\n",
              "<p>5 rows × 21 columns</p>\n",
              "</div>\n",
              "      <button class=\"colab-df-convert\" onclick=\"convertToInteractive('df-32c2d123-b4ca-4d6f-8b7e-b43df7eb8304')\"\n",
              "              title=\"Convert this dataframe to an interactive table.\"\n",
              "              style=\"display:none;\">\n",
              "        \n",
              "  <svg xmlns=\"http://www.w3.org/2000/svg\" height=\"24px\"viewBox=\"0 0 24 24\"\n",
              "       width=\"24px\">\n",
              "    <path d=\"M0 0h24v24H0V0z\" fill=\"none\"/>\n",
              "    <path d=\"M18.56 5.44l.94 2.06.94-2.06 2.06-.94-2.06-.94-.94-2.06-.94 2.06-2.06.94zm-11 1L8.5 8.5l.94-2.06 2.06-.94-2.06-.94L8.5 2.5l-.94 2.06-2.06.94zm10 10l.94 2.06.94-2.06 2.06-.94-2.06-.94-.94-2.06-.94 2.06-2.06.94z\"/><path d=\"M17.41 7.96l-1.37-1.37c-.4-.4-.92-.59-1.43-.59-.52 0-1.04.2-1.43.59L10.3 9.45l-7.72 7.72c-.78.78-.78 2.05 0 2.83L4 21.41c.39.39.9.59 1.41.59.51 0 1.02-.2 1.41-.59l7.78-7.78 2.81-2.81c.8-.78.8-2.07 0-2.86zM5.41 20L4 18.59l7.72-7.72 1.47 1.35L5.41 20z\"/>\n",
              "  </svg>\n",
              "      </button>\n",
              "      \n",
              "  <style>\n",
              "    .colab-df-container {\n",
              "      display:flex;\n",
              "      flex-wrap:wrap;\n",
              "      gap: 12px;\n",
              "    }\n",
              "\n",
              "    .colab-df-convert {\n",
              "      background-color: #E8F0FE;\n",
              "      border: none;\n",
              "      border-radius: 50%;\n",
              "      cursor: pointer;\n",
              "      display: none;\n",
              "      fill: #1967D2;\n",
              "      height: 32px;\n",
              "      padding: 0 0 0 0;\n",
              "      width: 32px;\n",
              "    }\n",
              "\n",
              "    .colab-df-convert:hover {\n",
              "      background-color: #E2EBFA;\n",
              "      box-shadow: 0px 1px 2px rgba(60, 64, 67, 0.3), 0px 1px 3px 1px rgba(60, 64, 67, 0.15);\n",
              "      fill: #174EA6;\n",
              "    }\n",
              "\n",
              "    [theme=dark] .colab-df-convert {\n",
              "      background-color: #3B4455;\n",
              "      fill: #D2E3FC;\n",
              "    }\n",
              "\n",
              "    [theme=dark] .colab-df-convert:hover {\n",
              "      background-color: #434B5C;\n",
              "      box-shadow: 0px 1px 3px 1px rgba(0, 0, 0, 0.15);\n",
              "      filter: drop-shadow(0px 1px 2px rgba(0, 0, 0, 0.3));\n",
              "      fill: #FFFFFF;\n",
              "    }\n",
              "  </style>\n",
              "\n",
              "      <script>\n",
              "        const buttonEl =\n",
              "          document.querySelector('#df-32c2d123-b4ca-4d6f-8b7e-b43df7eb8304 button.colab-df-convert');\n",
              "        buttonEl.style.display =\n",
              "          google.colab.kernel.accessAllowed ? 'block' : 'none';\n",
              "\n",
              "        async function convertToInteractive(key) {\n",
              "          const element = document.querySelector('#df-32c2d123-b4ca-4d6f-8b7e-b43df7eb8304');\n",
              "          const dataTable =\n",
              "            await google.colab.kernel.invokeFunction('convertToInteractive',\n",
              "                                                     [key], {});\n",
              "          if (!dataTable) return;\n",
              "\n",
              "          const docLinkHtml = 'Like what you see? Visit the ' +\n",
              "            '<a target=\"_blank\" href=https://colab.research.google.com/notebooks/data_table.ipynb>data table notebook</a>'\n",
              "            + ' to learn more about interactive tables.';\n",
              "          element.innerHTML = '';\n",
              "          dataTable['output_type'] = 'display_data';\n",
              "          await google.colab.output.renderOutput(dataTable, element);\n",
              "          const docLink = document.createElement('div');\n",
              "          docLink.innerHTML = docLinkHtml;\n",
              "          element.appendChild(docLink);\n",
              "        }\n",
              "      </script>\n",
              "    </div>\n",
              "  </div>\n",
              "  "
            ]
          },
          "metadata": {},
          "execution_count": 111
        }
      ]
    },
    {
      "cell_type": "code",
      "source": [
        "import string\n",
        "def clean_round_1(text):\n",
        "  text = text.lower()\n",
        "  text=re.sub(\"i'm\", 'i am',text)\n",
        "  text=re.sub(\"he's\", \"he is\",text)\n",
        "  text=re.sub(\"she's\", \"she is\",text)\n",
        "  text=re.sub(\"what's\", \"what is\",text)\n",
        "  text=re.sub(\"where's\", \"where is\",text)\n",
        "  text=re.sub(\"don't\", \"do not\",text)\n",
        "  text=re.sub(\"\\'ll\", \" will\",text)\n",
        "  text=re.sub(\"\\ve\", \" have\",text)\n",
        "  text=re.sub(\"\\re\", \" are\",text)\n",
        "  text=re.sub(\"\\d\", \"would\",text)\n",
        "  text=re.sub(\"wont\", \"will not\",text)\n",
        "  text=re.sub(\"can't\", \"can not\",text)\n",
        "  text= text.translate(str.maketrans( '', '', string.punctuation))\n",
        "  return text"
      ],
      "metadata": {
        "id": "CQ0EWwShy2eY"
      },
      "execution_count": null,
      "outputs": []
    },
    {
      "cell_type": "code",
      "source": [
        "Review_table['clean_1'] = Review_table['reviews'].apply(clean_round_1)"
      ],
      "metadata": {
        "id": "n-b1Vek30lzb"
      },
      "execution_count": null,
      "outputs": []
    },
    {
      "cell_type": "code",
      "source": [
        "def clean_round_2(text):\n",
        "  text = \" \".join([word for word in text.split()])\n",
        "  doc = nlp(text)\n",
        "  text = [word.lemma_ for word in doc]\n",
        "  text = [word for word in text if word not in nlp.Defaults.stop_words]\n",
        "  text = \",\".join([word for word in text])\n",
        "  return text"
      ],
      "metadata": {
        "id": "py_w0BXQ00Hk"
      },
      "execution_count": null,
      "outputs": []
    },
    {
      "cell_type": "code",
      "source": [
        "Review_table['clean_2'] = Review_table['clean_1'].apply(clean_round_2)"
      ],
      "metadata": {
        "id": "5mTcGNvG1sjQ"
      },
      "execution_count": null,
      "outputs": []
    },
    {
      "cell_type": "code",
      "source": [
        "def remove_words(text):\n",
        "  final_words = []\n",
        "  for word in text:\n",
        "    if len(word) > 2:\n",
        "      final_words.append(word)\n",
        "  return final_words"
      ],
      "metadata": {
        "id": "Si4Mv_3pKfqg"
      },
      "execution_count": null,
      "outputs": []
    },
    {
      "cell_type": "code",
      "source": [
        "Review_table['clean_3'] = Review_table['clean_2'].str.strip('()').str.split(',')\n",
        "type(Review_table['clean_3'].iloc[0])"
      ],
      "metadata": {
        "colab": {
          "base_uri": "https://localhost:8080/"
        },
        "id": "Yxi_QuEkCwtb",
        "outputId": "ebd8f800-9b40-4e42-ee38-b476ac92cd54"
      },
      "execution_count": null,
      "outputs": [
        {
          "output_type": "execute_result",
          "data": {
            "text/plain": [
              "list"
            ]
          },
          "metadata": {},
          "execution_count": 117
        }
      ]
    },
    {
      "cell_type": "code",
      "source": [
        "text_data = Review_table['clean_3']\n",
        "Review_table['clean_3'].head()"
      ],
      "metadata": {
        "colab": {
          "base_uri": "https://localhost:8080/"
        },
        "id": "tYM70sd_29-2",
        "outputId": "4e496685-9ef2-4e0c-fe73-d5488eec6a4e"
      },
      "execution_count": null,
      "outputs": [
        {
          "output_type": "execute_result",
          "data": {
            "text/plain": [
              "0    [vancouver, delhi, london, book, fly, vancouve...\n",
              "2    [ba, shamble, start, excellent, check, twould,...\n",
              "3    [ba, cancel, flight, home, heathrow, dec, woul...\n",
              "4    [ba, cancel, flight, home, flight, day, heathr...\n",
              "5    [turn, wouldwould, hour, advance, terminal, lo...\n",
              "Name: clean_3, dtype: object"
            ]
          },
          "metadata": {},
          "execution_count": 118
        }
      ]
    },
    {
      "cell_type": "code",
      "source": [
        "id2word = corpora.Dictionary(text_data)\n",
        "texts = text_data\n",
        "print(texts)"
      ],
      "metadata": {
        "colab": {
          "base_uri": "https://localhost:8080/"
        },
        "id": "u3Co_ZkU4BhW",
        "outputId": "d91f5716-f5a6-4235-e9b0-f82ab6dacf05"
      },
      "execution_count": null,
      "outputs": [
        {
          "output_type": "stream",
          "name": "stdout",
          "text": [
            "0      [vancouver, delhi, london, book, fly, vancouve...\n",
            "2      [ba, shamble, start, excellent, check, twould,...\n",
            "3      [ba, cancel, flight, home, heathrow, dec, woul...\n",
            "4      [ba, cancel, flight, home, flight, day, heathr...\n",
            "5      [turn, wouldwould, hour, advance, terminal, lo...\n",
            "                             ...                        \n",
            "991    [st, lucia, gatwick, night, flight, decide, fl...\n",
            "992    [fort, lauderdale, gatwick, efficient, courtes...\n",
            "994    [london, las, vegas, disappoint, ba, flight, d...\n",
            "998    [family, I, travel, cape, town, london, wouldw...\n",
            "999    [gatwick, madeira, flight, leave, time, arrive...\n",
            "Name: clean_3, Length: 635, dtype: object\n"
          ]
        }
      ]
    },
    {
      "cell_type": "code",
      "source": [
        "corpus = [id2word.doc2bow(word) for word in texts]\n"
      ],
      "metadata": {
        "id": "asX_RjCE-dGP"
      },
      "execution_count": null,
      "outputs": []
    },
    {
      "cell_type": "code",
      "source": [
        "print(corpus[:1][0][:30])"
      ],
      "metadata": {
        "colab": {
          "base_uri": "https://localhost:8080/"
        },
        "id": "HqI9KdLT-mcL",
        "outputId": "4cc8d2c9-9372-4783-eb42-c8bb374c3a49"
      },
      "execution_count": null,
      "outputs": [
        {
          "output_type": "stream",
          "name": "stdout",
          "text": [
            "[(0, 2), (1, 1), (2, 1), (3, 2), (4, 2), (5, 1), (6, 1), (7, 3), (8, 1), (9, 1), (10, 1), (11, 5), (12, 1), (13, 1), (14, 1), (15, 3), (16, 1), (17, 9), (18, 4), (19, 1), (20, 2), (21, 1), (22, 1), (23, 1), (24, 1), (25, 1), (26, 1), (27, 1), (28, 2), (29, 1)]\n"
          ]
        }
      ]
    },
    {
      "cell_type": "code",
      "source": [
        "lda_model = gensim.models.ldamodel.LdaModel(corpus=corpus,\n",
        "                                            id2word=id2word,\n",
        "                                            num_topics=7,\n",
        "                                            random_state=100,\n",
        "                                            update_every=1,\n",
        "                                            chunksize = 100,\n",
        "                                            passes = 10,\n",
        "                                            alpha = 'auto')"
      ],
      "metadata": {
        "id": "LTfWyLYDFMmL"
      },
      "execution_count": null,
      "outputs": []
    },
    {
      "cell_type": "code",
      "source": [
        "pyLDAvis.enable_notebook()\n",
        "vis = pyLDAvis.gensim_models.prepare(lda_model, corpus, id2word, mds = 'mmds', R=20)\n",
        "pyLDAvis.save_html(vis, 'output_filename.html')\n",
        "vis"
      ],
      "metadata": {
        "colab": {
          "base_uri": "https://localhost:8080/",
          "height": 861
        },
        "id": "u6agCnP9FpQ-",
        "outputId": "bb2f8cb5-59f6-46e1-86b0-b02f9241c323"
      },
      "execution_count": null,
      "outputs": [
        {
          "output_type": "execute_result",
          "data": {
            "text/plain": [
              "PreparedData(topic_coordinates=              x         y  topics  cluster       Freq\n",
              "topic                                                \n",
              "4     -0.188917 -0.194624       1        1  40.288118\n",
              "1     -0.033246 -0.316811       2        1  23.556232\n",
              "6     -0.283392  0.071692       3        1  15.871909\n",
              "0     -0.140201  0.229161       4        1  12.592537\n",
              "3      0.252614 -0.124587       5        1   3.383154\n",
              "5      0.250198  0.106617       6        1   2.852002\n",
              "2      0.142945  0.228553       7        1   1.456047, topic_info=          Term         Freq        Total Category  logprob  loglift\n",
              "1            I  2820.000000  2820.000000  Default  20.0000  20.0000\n",
              "440      class   223.000000   223.000000  Default  19.0000  19.0000\n",
              "439   business   225.000000   225.000000  Default  18.0000  18.0000\n",
              "206       seat   653.000000   653.000000  Default  17.0000  17.0000\n",
              "43      flight  1257.000000  1257.000000  Default  16.0000  16.0000\n",
              "...        ...          ...          ...      ...      ...      ...\n",
              "1724   ryanair     6.148760     9.838088   Topic7  -4.6896   3.7594\n",
              "1470   layover     4.221142     6.414299   Topic7  -5.0658   3.8110\n",
              "3200       abu     6.679199    12.853081   Topic7  -4.6069   3.5749\n",
              "3202     dhabi     6.679199    12.853081   Topic7  -4.6069   3.5749\n",
              "275   terminal     5.386117    61.352170   Topic7  -4.8221   1.7966\n",
              "\n",
              "[286 rows x 6 columns], token_table=      Topic      Freq  Term\n",
              "term                       \n",
              "0         1  0.970435     \"\n",
              "0         5  0.016448     \"\n",
              "967       2  0.960567     '\n",
              "1         1  0.532206     I\n",
              "1         2  0.442146     I\n",
              "...     ...       ...   ...\n",
              "280       2  0.185235  year\n",
              "280       4  0.412569  year\n",
              "1203      2  0.257644  york\n",
              "1203      6  0.708520  york\n",
              "405       3  0.968330     –\n",
              "\n",
              "[439 rows x 3 columns], R=20, lambda_step=0.01, plot_opts={'xlab': 'PC1', 'ylab': 'PC2'}, topic_order=[5, 2, 7, 1, 4, 6, 3])"
            ],
            "text/html": [
              "\n",
              "<link rel=\"stylesheet\" type=\"text/css\" href=\"https://cdn.jsdelivr.net/gh/bmabey/pyLDAvis@3.3.1/pyLDAvis/js/ldavis.v1.0.0.css\">\n",
              "\n",
              "\n",
              "<div id=\"ldavis_el4691406581076952805898538964\"></div>\n",
              "<script type=\"text/javascript\">\n",
              "\n",
              "var ldavis_el4691406581076952805898538964_data = {\"mdsDat\": {\"x\": [-0.18891691297412755, -0.03324630297809568, -0.283392459675952, -0.14020083822675802, 0.25261398137289687, 0.250197761419938, 0.14294477106209835], \"y\": [-0.1946239363946556, -0.3168112646421204, 0.0716916891381224, 0.229160933712224, -0.12458746552562011, 0.10661698824356126, 0.2285530554684884], \"topics\": [1, 2, 3, 4, 5, 6, 7], \"cluster\": [1, 1, 1, 1, 1, 1, 1], \"Freq\": [40.288117822823565, 23.556232423220326, 15.8719091764246, 12.592537002248521, 3.3831542640687204, 2.852001979012262, 1.4560473322020053]}, \"tinfo\": {\"Term\": [\"I\", \"class\", \"business\", \"seat\", \"flight\", \"check\", \"staff\", \"crew\", \"food\", \"club\", \"tell\", \"book\", \"cabin\", \"baggage\", \"customer\", \"drink\", \"refund\", \"ba\", \"leg\", \"meal\", \"miss\", \"connect\", \"wouldwouldwould\", \"end\", \"case\", \"free\", \"buy\", \"legroom\", \"american\", \"frequent\", \"delay\", \"flyer\", \"especially\", \"open\", \"amsterdam\", \"disappoint\", \"security\", \"bag\", \"carrier\", \"arrive\", \"\\\"\", \"heathrow\", \"late\", \"hand\", \"hour\", \"flight\", \"luggage\", \"london\", \"fly\", \"I\", \"wouldwould\", \"time\", \"check\", \"airline\", \"ba\", \"plane\", \"seat\", \"bad\", \"british\", \"service\", \"airways\", \"pay\", \"refund\", \"phone\", \"voucher\", \"week\", \"speak\", \"booking\", \"situation\", \"month\", \"wouldwouldth\", \"stay\", \"wouldwouldkg\", \"realise\", \"rebook\", \"'\", \"inbound\", \"message\", \"team\", \"review\", \"reply\", \"lady\", \"book\", \"cancel\", \"response\", \"explain\", \"fare\", \"ticket\", \"email\", \"request\", \"customer\", \"I\", \"try\", \"issue\", \"change\", \"tell\", \"wouldwouldwouldwould\", \"ba\", \"travel\", \"flight\", \"british\", \"airways\", \"ask\", \"day\", \"service\", \"pay\", \"tea\", \"awouldwouldwould\", \"hot\", \"coffee\", \"decent\", \"locker\", \"window\", \"\\u2013\", \"adequate\", \"movie\", \"anymore\", \"jfk\", \"cup\", \"priority\", \"iberia\", \"pretty\", \"acceptable\", \"carryon\", \"tokyo\", \"sandwich\", \"water\", \"snack\", \"aisle\", \"friendly\", \"drink\", \"meal\", \"crew\", \"toilet\", \"sleep\", \"serve\", \"leg\", \"economy\", \"breakfast\", \"ife\", \"cabin\", \"food\", \"screen\", \"seat\", \"aircraft\", \"attendant\", \"passenger\", \"choice\", \"selection\", \"service\", \"business\", \"small\", \"staff\", \"I\", \"club\", \"product\", \"limited\", \"bed\", \"comfort\", \"virgin\", \"champagne\", \"remain\", \"menu\", \"chicken\", \"atlantic\", \"cheese\", \"dallas\", \"sad\", \"plastic\", \"fa\", \"improve\", \"narrow\", \"comparison\", \"deck\", \"value\", \"europe\", \"cathay\", \"world\", \"wear\", \"main\", \"waste\", \"food\", \"class\", \"old\", \"offer\", \"small\", \"cabin\", \"business\", \"year\", \"ba\", \"seat\", \"service\", \"like\", \"airline\", \"lounge\", \"poor\", \"use\", \"crew\", \"fly\", \"box\", \"downgrade\", \"damage\", \"kwould\", \"compensate\", \"evidence\", \"rip\", \"occasion\", \"gold\", \"following\", \"numerous\", \"lago\", \"responsibility\", \"wouldrd\", \"ceo\", \"reimburse\", \"geneva\", \"madeira\", \"perfect\", \"fantastic\", \"raise\", \"staff\", \"desk\", \"baggage\", \"check\", \"queue\", \"fine\", \"pass\", \"provide\", \"checkin\", \"tell\", \"certainly\", \"comfortable\", \"stewardess\", \"joke\", \"miami\", \"taxi\", \"carry\", \"grubby\", \"eurowing\", \"brazil\", \"degree\", \"split\", \"ready\", \"immigration\", \"adult\", \"exclusive\", \"stretch\", \"france\", \"disaster\", \"daughter\", \"york\", \"class\", \"business\", \"madrid\", \"middle\", \"singapore\", \"leg\", \"seat\", \"cheap\", \"stick\", \"row\", \"hamburg\", \"disembarkation\", \"wish\", \"budapest\", \"vegan\", \"chaotic\", \"qanta\", \"efficiently\", \"outdated\", \"needless\", \"mix\", \"shut\", \"firm\", \"kg\", \"offload\", \"minimum\", \"justify\", \"bark\", \"cheat\", \"screening\", \"ryanair\", \"layover\", \"abu\", \"dhabi\", \"terminal\"], \"Freq\": [2820.0, 223.0, 225.0, 653.0, 1257.0, 184.0, 242.0, 212.0, 254.0, 114.0, 221.0, 164.0, 184.0, 89.0, 239.0, 134.0, 133.0, 825.0, 81.0, 129.0, 87.05648768117582, 62.99408738610083, 168.07961235478507, 57.25408218279217, 54.78897404067837, 50.94035275229906, 50.84760273787008, 46.88037798276395, 41.57610991620776, 38.28319992117617, 206.27003208911376, 37.07748852670893, 33.98578330435777, 33.649912562451696, 33.401531058294125, 32.976035302445226, 52.73290475530157, 215.00572310328428, 29.962599488822036, 117.71624245086703, 59.38517303156409, 184.9795115356007, 72.69251992935392, 52.26892192449978, 310.27622068299075, 985.6025671217891, 108.37768065325366, 331.25908601622854, 243.400141313664, 1500.7263024312153, 281.5418024197177, 217.9161890733024, 144.69993630385147, 230.13150131844745, 461.82434770737717, 143.29791884436244, 340.11205291071246, 113.72740562343323, 162.46512872272774, 188.40114999893424, 142.08412555208622, 133.76289149894384, 132.5020997211542, 90.02753090869008, 68.04567853277122, 43.838882582560295, 42.594184177474716, 51.041248769682014, 32.21242384592073, 63.4797849948348, 31.36770176124673, 30.68655549019234, 26.954718404956452, 26.134056998082723, 31.28877810083056, 25.40166680100834, 25.315237882554126, 23.46790858885781, 22.621223241587558, 22.040563756460923, 21.698512503459146, 20.516440663053334, 156.8265150107323, 118.14232832857586, 36.37090889220507, 49.31763526236229, 50.64905493309229, 117.61879499655477, 58.43585339623485, 52.830186752604845, 169.19295237021942, 1247.4719936074364, 98.70502053193105, 62.33241300174155, 91.3730336492376, 127.66955026247459, 98.83425815187427, 223.92405616053097, 89.0459802580653, 228.63723723717098, 109.36989643508332, 102.83302334316835, 84.66785930420626, 92.39920252964933, 104.04724203344126, 80.98776263116683, 38.65556714009703, 37.55131730699986, 31.033848285906675, 29.45706706489908, 24.623748679864295, 23.67092217275538, 21.572126814551726, 19.981477178533297, 19.9973425637967, 18.631058309207965, 18.373269147607065, 17.92231896287683, 17.593808865809276, 28.126745255896168, 17.20530645407076, 17.722621937619824, 14.909198208564703, 14.573900789983949, 14.152519689444192, 14.111621704709478, 67.48106179674961, 22.75484603146799, 35.4935956872904, 32.272954742794745, 113.77782164720746, 104.96893454373543, 163.31239027315883, 37.29026778580293, 40.343893413783896, 77.95977602940894, 61.26475830471621, 94.77046180318676, 43.83337817663575, 30.68057813505279, 102.36341138015004, 116.13324806011384, 51.64943483999713, 202.0700100648196, 64.04651069688299, 42.708275626955626, 79.12623080663208, 47.89287228690359, 40.03230831884845, 68.96150278790236, 52.75795370644035, 46.38478955955073, 51.37424011284449, 59.63338983393045, 113.80849740641963, 31.832588615617126, 23.716148290057763, 23.594655938280756, 18.110204106939083, 17.979105859398473, 17.435864835332417, 17.031619640990176, 24.849388012575787, 16.0651183296215, 15.52457988997365, 13.332949638617606, 13.430055409859277, 12.950264493350385, 12.465403873369064, 12.412789701243407, 12.12025312585415, 12.11437641935754, 12.080933621245354, 11.663454385656848, 28.21333768047717, 36.2060492184997, 16.253071893728695, 50.177928344943496, 21.75269780697576, 24.04857695150035, 26.895613563780604, 106.10082364773865, 92.54704214484345, 46.58919802167292, 75.66518017023341, 53.272584202352355, 67.36590717955669, 71.77092038815925, 48.91472475977027, 121.5802895088848, 96.52417938607522, 75.93054000938938, 40.283184777705884, 53.68488056542998, 34.45570950732205, 33.77260771873832, 38.84948395260624, 40.05405519785914, 38.09170946015248, 20.390864353234434, 18.004967285471842, 11.869185484738734, 10.922703564511275, 9.579191079353468, 9.277020740819951, 8.894836201645079, 8.520421430094235, 8.36518316692465, 8.339441513431426, 7.673177967381666, 7.837958863255986, 7.525268608286026, 7.197721468852458, 6.7899682916005695, 5.9647495465882905, 5.778704766496664, 5.8127442827859745, 5.662627348327484, 5.661363032744203, 7.655788832182118, 34.92830010193183, 14.363260622462791, 18.976614623747754, 25.747059682044274, 14.287349565666863, 10.721733490094822, 13.474498527257834, 11.576462222278408, 11.845108833158793, 13.655662318044978, 16.930849080781012, 15.505912671705595, 13.4790706975662, 12.354189378526286, 10.115133752581636, 9.451834808502372, 7.863644688891638, 6.568450781609503, 6.568270144642161, 6.5667249662593585, 5.783082745288838, 5.5501355091408815, 5.41741249738646, 5.13179249797766, 5.08714556943302, 5.032672539099007, 5.01287051668417, 4.759127144540971, 4.751169964077557, 4.5572516026858985, 10.75477352575929, 73.10889222121328, 64.15053868942806, 11.454773507730238, 12.078980415140634, 10.967584622128829, 16.446816460027886, 12.097341918766924, 7.08439206827953, 6.439405196764547, 6.584453019979901, 10.827123685673804, 8.689745259299025, 8.342320600232648, 7.113294294360721, 6.913327493391193, 6.566274212902119, 5.509931468054779, 5.1949937108445035, 4.361970375929043, 4.228276892133068, 4.137525614133727, 3.9865748657431395, 3.476309112628316, 3.364649096103167, 3.1624602548540075, 3.0991165289240565, 2.997248195223958, 2.9117314234974834, 2.7714774374345152, 2.7714774374345152, 6.1487599479093555, 4.2211415631252, 6.679198848257192, 6.679198848257192, 5.386116592103205], \"Total\": [2820.0, 223.0, 225.0, 653.0, 1257.0, 184.0, 242.0, 212.0, 254.0, 114.0, 221.0, 164.0, 184.0, 89.0, 239.0, 134.0, 133.0, 825.0, 81.0, 129.0, 87.7129225853878, 63.64387641440447, 169.99163592958553, 57.90655834995925, 55.47919757765853, 51.590429974880855, 51.498172818954934, 47.53136423746691, 42.22650553185551, 38.933631025765656, 209.82372859416864, 37.727909531467745, 34.63690338793947, 34.30005821617575, 34.05051414569002, 33.62795688211383, 53.820518194193774, 219.6230506893202, 30.613708560593633, 120.33875820731684, 60.79746265299046, 194.12349991612544, 75.13227023579235, 54.418668346001766, 357.75155136139705, 1257.1405648822722, 122.64625482923327, 440.834354138433, 330.6751004559664, 2820.3385152805154, 394.53619987419887, 300.9079203130725, 184.8685486140297, 336.31086952481866, 825.4786444513717, 188.60030888521385, 653.5023018399896, 143.62390140902957, 274.3001106993442, 437.603032944273, 247.24383555688576, 233.61609261015028, 133.12525482422765, 90.65133181611803, 68.66886474614722, 44.46805992357479, 43.21756648856437, 51.92766159844641, 32.83682832920972, 64.73530755393683, 31.992434520390947, 31.31242831161402, 27.58721704763042, 26.761180347074394, 32.043089256208034, 26.026299632444143, 25.94420047403138, 24.091897681554936, 23.246303237992585, 22.66679401342973, 22.32303398394968, 21.141345817929718, 164.9081507403942, 124.64844040633312, 37.70267945380604, 51.529934852689415, 54.78819994765729, 135.92139966660227, 66.85663055541035, 60.49791584603538, 239.05004041428882, 2820.3385152805154, 138.00862465215846, 76.77034913492191, 131.14052991495575, 221.21075205485468, 155.09544925006384, 825.4786444513717, 169.32617329884448, 1257.1405648822722, 274.3001106993442, 247.24383555688576, 160.47244004295064, 208.92264187204466, 437.603032944273, 233.61609261015028, 39.326439385117354, 38.22688037033977, 31.70589876259089, 30.12817473665343, 25.296341267844777, 24.343861360358183, 22.244353270713887, 20.654105794291628, 20.670517385028077, 19.301656201634465, 19.05098162300148, 18.5982166515074, 18.264362932676292, 29.22632334176871, 17.878305055816167, 18.425527083287452, 15.590880592150487, 15.246133902952439, 14.82400258318665, 14.782670673228239, 70.90620677952082, 23.94411440171487, 37.79415869762986, 34.33323865109394, 134.0228712549641, 129.0854255117073, 212.95413216793034, 42.144424327866936, 46.983101911739084, 104.82719718255443, 81.69979523920593, 140.76776949005924, 54.867017340645376, 35.335513183313246, 184.03955073482757, 254.50081874476174, 76.29850754084738, 653.5023018399896, 106.9878445631553, 57.75492225249241, 188.71507351409656, 90.51177027567172, 53.74931921534414, 437.603032944273, 225.16924058176107, 116.55926804048097, 242.76967629935473, 2820.3385152805154, 114.47810454463044, 32.50237864100036, 24.38693019125508, 24.26408699705642, 18.77961619623026, 18.649723069929788, 18.104653154140927, 17.702256962112674, 25.858809229716474, 16.73660339167515, 16.195750201277388, 14.00205454703942, 14.106186487026493, 13.629579995225278, 13.135206602876202, 13.084023189409042, 12.789114572247364, 12.78358092488665, 12.751188002650592, 12.335252179899603, 29.99342263899864, 39.62131381897752, 17.597661023318636, 63.021923445578985, 25.528569793044852, 30.09149269681236, 34.9598442259245, 254.50081874476174, 223.51710524271425, 89.2257543906805, 198.91624284459093, 116.55926804048097, 184.03955073482757, 225.16924058176107, 118.76812251436425, 825.4786444513717, 653.5023018399896, 437.603032944273, 132.2856411845679, 336.31086952481866, 89.84502688494204, 88.70013292065863, 159.9020328724452, 212.95413216793034, 330.6751004559664, 21.090861963634598, 18.697543265228862, 12.556352953202534, 11.608157745781217, 10.265351224347741, 9.961304150654236, 9.581888114328665, 9.206704573751223, 9.051959267754654, 9.025616941755143, 8.360461090197697, 8.5411493419673, 8.215854626759402, 7.888436277552542, 7.477388404619652, 6.651470640136693, 6.463164618982422, 6.506540238230756, 6.356700359042975, 6.356563774369476, 10.096649869876456, 242.76967629935473, 41.61914560634352, 89.10549579714406, 184.8685486140297, 52.897958833076224, 28.787121487284878, 70.74887097344978, 60.75612588636344, 70.03556831627944, 221.21075205485468, 17.62857564980126, 16.205477829450672, 14.17904490148973, 13.051839191120846, 10.81278680943465, 10.14985449986223, 8.558798241756135, 7.26401074765907, 7.264077327424455, 7.264798266584507, 6.478369857192526, 6.246786113979222, 6.11171513970513, 5.83372103795547, 5.789263187763976, 5.727756399067472, 5.711508353101181, 5.456571129828873, 5.451201072407728, 5.253651763717478, 15.525324800166873, 223.51710524271425, 225.16924058176107, 24.06961542839025, 28.412613023882546, 28.836818506783857, 81.69979523920593, 653.5023018399896, 30.74725176085902, 18.659729676344902, 53.45521880237823, 11.535764500478876, 9.410156120817753, 9.064758525482226, 7.827485246644039, 7.62268228779646, 7.279880918086334, 6.223180148216206, 5.915286527238825, 5.07727732132338, 4.948207487918803, 4.852797647326055, 4.703422816733908, 4.194015267366131, 4.0739944866531586, 3.8882014097914523, 3.8122388763406736, 3.7078129844841996, 3.6218961061789345, 3.481454035054229, 3.481454035054229, 9.838087754726972, 6.4142988058303985, 12.853081449026927, 12.853081449026927, 61.35216971717995], \"Category\": [\"Default\", \"Default\", \"Default\", \"Default\", \"Default\", \"Default\", \"Default\", \"Default\", \"Default\", \"Default\", \"Default\", \"Default\", \"Default\", \"Default\", \"Default\", \"Default\", \"Default\", \"Default\", \"Default\", \"Default\", \"Topic1\", \"Topic1\", \"Topic1\", \"Topic1\", \"Topic1\", \"Topic1\", \"Topic1\", \"Topic1\", \"Topic1\", \"Topic1\", \"Topic1\", \"Topic1\", \"Topic1\", \"Topic1\", \"Topic1\", \"Topic1\", \"Topic1\", \"Topic1\", \"Topic1\", \"Topic1\", \"Topic1\", \"Topic1\", \"Topic1\", \"Topic1\", \"Topic1\", \"Topic1\", \"Topic1\", \"Topic1\", \"Topic1\", \"Topic1\", \"Topic1\", \"Topic1\", \"Topic1\", \"Topic1\", \"Topic1\", \"Topic1\", \"Topic1\", \"Topic1\", \"Topic1\", \"Topic1\", \"Topic1\", \"Topic1\", \"Topic2\", \"Topic2\", \"Topic2\", \"Topic2\", \"Topic2\", \"Topic2\", \"Topic2\", \"Topic2\", \"Topic2\", \"Topic2\", \"Topic2\", \"Topic2\", \"Topic2\", \"Topic2\", \"Topic2\", \"Topic2\", \"Topic2\", \"Topic2\", \"Topic2\", \"Topic2\", \"Topic2\", \"Topic2\", \"Topic2\", \"Topic2\", \"Topic2\", \"Topic2\", \"Topic2\", \"Topic2\", \"Topic2\", \"Topic2\", \"Topic2\", \"Topic2\", \"Topic2\", \"Topic2\", \"Topic2\", \"Topic2\", \"Topic2\", \"Topic2\", \"Topic2\", \"Topic2\", \"Topic2\", \"Topic2\", \"Topic2\", \"Topic2\", \"Topic3\", \"Topic3\", \"Topic3\", \"Topic3\", \"Topic3\", \"Topic3\", \"Topic3\", \"Topic3\", \"Topic3\", \"Topic3\", \"Topic3\", \"Topic3\", \"Topic3\", \"Topic3\", \"Topic3\", \"Topic3\", \"Topic3\", \"Topic3\", \"Topic3\", \"Topic3\", \"Topic3\", \"Topic3\", \"Topic3\", \"Topic3\", \"Topic3\", \"Topic3\", \"Topic3\", \"Topic3\", \"Topic3\", \"Topic3\", \"Topic3\", \"Topic3\", \"Topic3\", \"Topic3\", \"Topic3\", \"Topic3\", \"Topic3\", \"Topic3\", \"Topic3\", \"Topic3\", \"Topic3\", \"Topic3\", \"Topic3\", \"Topic3\", \"Topic3\", \"Topic3\", \"Topic3\", \"Topic3\", \"Topic4\", \"Topic4\", \"Topic4\", \"Topic4\", \"Topic4\", \"Topic4\", \"Topic4\", \"Topic4\", \"Topic4\", \"Topic4\", \"Topic4\", \"Topic4\", \"Topic4\", \"Topic4\", \"Topic4\", \"Topic4\", \"Topic4\", \"Topic4\", \"Topic4\", \"Topic4\", \"Topic4\", \"Topic4\", \"Topic4\", \"Topic4\", \"Topic4\", \"Topic4\", \"Topic4\", \"Topic4\", \"Topic4\", \"Topic4\", \"Topic4\", \"Topic4\", \"Topic4\", \"Topic4\", \"Topic4\", \"Topic4\", \"Topic4\", \"Topic4\", \"Topic4\", \"Topic4\", \"Topic4\", \"Topic4\", \"Topic4\", \"Topic4\", \"Topic4\", \"Topic5\", \"Topic5\", \"Topic5\", \"Topic5\", \"Topic5\", \"Topic5\", \"Topic5\", \"Topic5\", \"Topic5\", \"Topic5\", \"Topic5\", \"Topic5\", \"Topic5\", \"Topic5\", \"Topic5\", \"Topic5\", \"Topic5\", \"Topic5\", \"Topic5\", \"Topic5\", \"Topic5\", \"Topic5\", \"Topic5\", \"Topic5\", \"Topic5\", \"Topic5\", \"Topic5\", \"Topic5\", \"Topic5\", \"Topic5\", \"Topic5\", \"Topic6\", \"Topic6\", \"Topic6\", \"Topic6\", \"Topic6\", \"Topic6\", \"Topic6\", \"Topic6\", \"Topic6\", \"Topic6\", \"Topic6\", \"Topic6\", \"Topic6\", \"Topic6\", \"Topic6\", \"Topic6\", \"Topic6\", \"Topic6\", \"Topic6\", \"Topic6\", \"Topic6\", \"Topic6\", \"Topic6\", \"Topic6\", \"Topic6\", \"Topic6\", \"Topic6\", \"Topic6\", \"Topic6\", \"Topic6\", \"Topic6\", \"Topic7\", \"Topic7\", \"Topic7\", \"Topic7\", \"Topic7\", \"Topic7\", \"Topic7\", \"Topic7\", \"Topic7\", \"Topic7\", \"Topic7\", \"Topic7\", \"Topic7\", \"Topic7\", \"Topic7\", \"Topic7\", \"Topic7\", \"Topic7\", \"Topic7\", \"Topic7\", \"Topic7\", \"Topic7\", \"Topic7\", \"Topic7\", \"Topic7\"], \"logprob\": [20.0, 19.0, 18.0, 17.0, 16.0, 15.0, 14.0, 13.0, 12.0, 11.0, 10.0, 9.0, 8.0, 7.0, 6.0, 5.0, 4.0, 3.0, 2.0, 1.0, -5.3597, -5.6832, -4.7018, -5.7787, -5.8227, -5.8956, -5.8974, -5.9786, -6.0987, -6.1812, -4.497, -6.2132, -6.3003, -6.3102, -6.3176, -6.3304, -5.861, -4.4556, -6.4263, -5.0579, -5.7422, -4.606, -5.54, -5.8698, -4.0888, -2.933, -5.1406, -4.0233, -4.3315, -2.5125, -4.1859, -4.4421, -4.8516, -4.3876, -3.691, -4.8613, -3.9969, -5.0924, -4.7358, -4.5876, -4.8698, -4.9301, -4.403, -4.7894, -5.0694, -5.509, -5.5378, -5.3569, -5.8172, -5.1388, -5.8438, -5.8657, -5.9954, -6.0263, -5.8463, -6.0547, -6.0581, -6.1339, -6.1707, -6.1967, -6.2123, -6.2683, -4.2344, -4.5177, -5.6958, -5.3913, -5.3646, -4.5221, -5.2216, -5.3225, -4.1585, -2.1607, -4.6974, -5.1571, -4.7746, -4.4401, -4.6961, -3.8782, -4.8004, -3.8574, -4.5948, -4.6564, -4.8508, -4.7634, -4.6447, -4.8953, -5.24, -5.269, -5.4596, -5.5118, -5.691, -5.7305, -5.8233, -5.8999, -5.8991, -5.9699, -5.9838, -6.0087, -6.0272, -5.558, -6.0495, -6.0199, -6.1927, -6.2155, -6.2448, -6.2477, -4.6829, -5.7699, -5.3254, -5.4205, -4.1605, -4.241, -3.799, -5.276, -5.1973, -4.5385, -4.7795, -4.3433, -5.1143, -5.4711, -4.2662, -4.14, -4.9502, -3.5861, -4.7351, -5.1403, -4.5237, -5.0257, -5.205, -4.6612, -4.929, -5.0577, -4.9556, -4.8065, -3.9287, -5.2028, -5.4971, -5.5022, -5.7668, -5.7741, -5.8047, -5.8282, -5.4504, -5.8866, -5.9208, -6.073, -6.0658, -6.1021, -6.1403, -6.1445, -6.1684, -6.1689, -6.1716, -6.2068, -5.3235, -5.074, -5.875, -4.7477, -5.5835, -5.4832, -5.3713, -3.9989, -4.1355, -4.8219, -4.3369, -4.6878, -4.4531, -4.3898, -4.7732, -3.8627, -4.0935, -4.3334, -4.9673, -4.6801, -5.1236, -5.1436, -5.0036, -4.973, -5.0233, -4.3339, -4.4583, -4.875, -4.9581, -5.0894, -5.1214, -5.1635, -5.2065, -5.2249, -5.228, -5.3112, -5.29, -5.3307, -5.3752, -5.4335, -5.5631, -5.5948, -5.5889, -5.6151, -5.6153, -5.3135, -3.7957, -4.6843, -4.4058, -4.1006, -4.6896, -4.9767, -4.7482, -4.9, -4.8771, -4.7348, -4.349, -4.437, -4.577, -4.6642, -4.8641, -4.932, -5.1159, -5.2959, -5.2959, -5.2962, -5.4232, -5.4644, -5.4886, -5.5427, -5.5515, -5.5622, -5.5662, -5.6181, -5.6198, -5.6615, -4.8028, -2.8862, -3.0169, -4.7398, -4.6867, -4.7832, -4.378, -4.6852, -5.2203, -5.3157, -5.2935, -4.1238, -4.3437, -4.3845, -4.5439, -4.5724, -4.6239, -4.7993, -4.8582, -5.033, -5.0641, -5.0858, -5.123, -5.2599, -5.2926, -5.3545, -5.3748, -5.4082, -5.4371, -5.4865, -5.4865, -4.6896, -5.0658, -4.6069, -4.6069, -4.8221], \"loglift\": [20.0, 19.0, 18.0, 17.0, 16.0, 15.0, 14.0, 13.0, 12.0, 11.0, 10.0, 9.0, 8.0, 7.0, 6.0, 5.0, 4.0, 3.0, 2.0, 1.0, 0.9016, 0.8989, 0.8978, 0.8978, 0.8966, 0.8964, 0.8964, 0.8953, 0.8936, 0.8923, 0.892, 0.8917, 0.8901, 0.89, 0.8899, 0.8895, 0.8887, 0.8879, 0.8876, 0.8871, 0.8856, 0.8609, 0.8761, 0.8688, 0.7667, 0.6658, 0.7854, 0.6233, 0.6027, 0.2782, 0.5717, 0.5864, 0.6641, 0.5297, 0.3283, 0.6344, 0.256, 0.6757, 0.3854, 0.0664, 0.3552, 0.3515, 1.4411, 1.4389, 1.4367, 1.4315, 1.4313, 1.4286, 1.4266, 1.4262, 1.4261, 1.4256, 1.4226, 1.4221, 1.422, 1.4215, 1.4212, 1.4195, 1.4185, 1.4178, 1.4174, 1.4158, 1.3955, 1.3922, 1.4098, 1.4019, 1.3672, 1.3012, 1.3112, 1.3103, 1.1001, 0.63, 1.1106, 1.2374, 1.0845, 0.8961, 0.9952, 0.1411, 0.8031, -0.2587, 0.5263, 0.5685, 0.8064, 0.6299, 0.0093, 0.3864, 1.8234, 1.8228, 1.8192, 1.8181, 1.8137, 1.8126, 1.8099, 1.8075, 1.8075, 1.8053, 1.8044, 1.8036, 1.8032, 1.8023, 1.8022, 1.8017, 1.7959, 1.7955, 1.7943, 1.7942, 1.7911, 1.7897, 1.7778, 1.7787, 1.6769, 1.6338, 1.5752, 1.7182, 1.6883, 1.5445, 1.5528, 1.445, 1.6161, 1.6994, 1.254, 1.0561, 1.4504, 0.6669, 1.3275, 1.5388, 0.9714, 1.2041, 1.546, -0.0071, 0.3895, 0.9192, 0.2876, -2.0158, 2.0662, 2.0512, 2.0442, 2.0441, 2.0358, 2.0354, 2.0344, 2.0334, 2.0322, 2.0311, 2.0297, 2.0231, 2.0229, 2.0209, 2.0197, 2.0194, 2.0183, 2.0183, 2.0181, 2.0161, 2.0109, 1.9819, 1.9926, 1.8442, 1.912, 1.8479, 1.8098, 1.1972, 1.1903, 1.4223, 1.1055, 1.2891, 1.0671, 0.9287, 1.185, 0.1567, 0.1595, 0.3206, 0.883, 0.2372, 1.1137, 1.1065, 0.6572, 0.4012, -0.0891, 3.3526, 3.3486, 3.3301, 3.3255, 3.3172, 3.3152, 3.312, 3.3089, 3.3075, 3.3073, 3.3006, 3.3004, 3.2986, 3.2947, 3.2899, 3.2774, 3.2744, 3.2736, 3.2707, 3.2705, 3.1096, 1.4475, 2.3225, 1.8397, 1.415, 2.0774, 2.3987, 1.728, 1.7285, 1.6093, 0.6014, 3.5168, 3.513, 3.5065, 3.5022, 3.4905, 3.4859, 3.4724, 3.4565, 3.4565, 3.4561, 3.4436, 3.4389, 3.4366, 3.4289, 3.4279, 3.4278, 3.4267, 3.4204, 3.4197, 3.4149, 3.19, 2.4396, 2.3015, 2.8146, 2.7018, 2.5904, 1.9542, -0.4322, 2.0892, 2.4932, 1.463, 4.166, 4.1498, 4.1464, 4.1338, 4.1318, 4.1263, 4.1077, 4.0996, 4.0776, 4.0722, 4.07, 4.0641, 4.0418, 4.0381, 4.0228, 4.0223, 4.0167, 4.0112, 4.0014, 4.0014, 3.7594, 3.811, 3.5749, 3.5749, 1.7966]}, \"token.table\": {\"Topic\": [1, 5, 2, 1, 2, 3, 4, 1, 3, 7, 3, 3, 6, 1, 3, 4, 1, 2, 3, 4, 1, 2, 6, 1, 3, 1, 1, 3, 1, 5, 1, 2, 3, 4, 1, 3, 3, 1, 2, 3, 4, 5, 1, 2, 3, 4, 6, 1, 2, 1, 2, 5, 7, 4, 1, 2, 2, 5, 6, 3, 4, 1, 2, 6, 7, 1, 2, 3, 4, 6, 1, 1, 3, 4, 1, 2, 5, 1, 6, 3, 1, 3, 4, 5, 6, 4, 1, 2, 4, 7, 4, 6, 7, 1, 2, 3, 5, 6, 1, 3, 5, 4, 4, 1, 3, 4, 1, 3, 4, 6, 4, 3, 4, 6, 4, 5, 1, 1, 3, 4, 3, 1, 2, 4, 5, 6, 1, 2, 3, 4, 6, 1, 5, 1, 2, 5, 1, 3, 7, 1, 6, 7, 5, 3, 4, 1, 2, 3, 4, 6, 7, 1, 2, 1, 1, 2, 4, 6, 5, 6, 2, 4, 4, 5, 2, 6, 3, 5, 7, 1, 2, 3, 4, 5, 1, 2, 3, 4, 1, 5, 1, 3, 4, 6, 6, 1, 1, 3, 4, 5, 5, 6, 7, 1, 3, 1, 2, 3, 3, 1, 2, 3, 5, 3, 1, 3, 6, 4, 2, 1, 2, 3, 6, 7, 7, 5, 2, 5, 1, 3, 6, 7, 1, 3, 6, 1, 1, 3, 4, 4, 3, 1, 2, 3, 4, 1, 3, 4, 1, 2, 5, 6, 5, 1, 2, 6, 3, 4, 3, 4, 4, 2, 6, 1, 6, 7, 1, 7, 1, 2, 3, 4, 7, 5, 5, 1, 2, 3, 4, 7, 1, 3, 4, 1, 7, 1, 2, 3, 5, 1, 3, 4, 1, 2, 4, 5, 2, 1, 3, 4, 4, 1, 3, 4, 3, 3, 5, 4, 1, 2, 3, 4, 5, 7, 1, 3, 4, 5, 2, 5, 6, 2, 2, 2, 5, 4, 2, 2, 4, 1, 2, 5, 2, 5, 1, 3, 6, 4, 7, 4, 3, 3, 4, 7, 1, 2, 3, 4, 6, 1, 5, 1, 3, 4, 3, 4, 1, 2, 3, 4, 7, 1, 4, 6, 2, 3, 6, 1, 3, 4, 3, 4, 2, 6, 1, 2, 3, 4, 5, 6, 2, 6, 3, 4, 6, 6, 6, 3, 2, 1, 2, 5, 1, 3, 7, 1, 2, 1, 2, 3, 4, 5, 1, 3, 3, 1, 2, 1, 2, 1, 2, 3, 4, 2, 4, 7, 4, 2, 1, 2, 4, 3, 4, 2, 4, 2, 3, 7, 1, 3, 4, 5, 1, 2, 3, 4, 2, 2, 1, 3, 1, 2, 4, 1, 2, 4, 2, 6, 3], \"Freq\": [0.9704352357063037, 0.016448054842479725, 0.9605668248295748, 0.5322056171156845, 0.4421455060248225, 0.0212740419899674, 0.00425480839799348, 0.23340706365998498, 0.23340706365998498, 0.5446164818732983, 0.9621008839970222, 0.9675616544792565, 0.8636677652810567, 0.26171197405020624, 0.5981987978290428, 0.13085598702510312, 0.683891068775066, 0.15461885033175404, 0.0029734394294568087, 0.16056572919066767, 0.5743318116715137, 0.41659279297299934, 0.008089180446077657, 0.052918230459920876, 0.9260690330486153, 0.9946359394649734, 0.969148361719437, 0.944833203674263, 0.9805652123874531, 0.016619749362499204, 0.21810598748689936, 0.5296859696110413, 0.24926398569931354, 0.9879134835469401, 0.2597181229752703, 0.7445252858624415, 0.9940648996689825, 0.5596752903366189, 0.2713577165268455, 0.015748438905575854, 0.14779304203694263, 0.006057091886759944, 0.7937397527959985, 0.006962629410491215, 0.05570103528392972, 0.1253273293888419, 0.020887888231473646, 0.9789500661482934, 0.01821302448647988, 0.7743630107517064, 0.011222652329734876, 0.21323039426496265, 0.828295432020266, 0.9891161370675741, 0.04851185319877826, 0.9520451190260233, 0.9821355021602943, 0.9482779809798437, 0.9635504997017625, 0.801938981425274, 0.182258859414835, 0.5905940015371175, 0.3973749763428754, 0.007291283969594044, 0.8942846622420891, 0.15987974159786741, 0.004441103933274094, 0.235378508463527, 0.31975948319573483, 0.28423065172954204, 0.99032639816744, 0.07607060517210144, 0.5542286948253105, 0.3640521818950569, 0.04011281636337233, 0.946662466175587, 0.008022563272674466, 0.9799531455204481, 0.9347106654495132, 0.9838559791932056, 0.9913625719444165, 0.0568257337537586, 0.9092117400601376, 0.9361557299437978, 0.9643433671393442, 0.9389851247225762, 0.25926386009000346, 0.6939120961232446, 0.03812703824852992, 0.9615541900704735, 0.7480343342190601, 0.2276626234579748, 0.8617089209834333, 0.7843410958060388, 0.07032023617571383, 0.005409248936593371, 0.14064047235142765, 0.005409248936593371, 0.7853152522675468, 0.04283537739641165, 0.1713415095856466, 0.9284351775896136, 0.9559884778029968, 0.19886916304009297, 0.5303177681069146, 0.2651588840534573, 0.0894786104995511, 0.1700093599491471, 0.41607553882291265, 0.3265969283233615, 0.9958236158212765, 0.96255416245708, 0.9584860420956443, 0.9873204707930765, 0.941088783061277, 0.9741507895298924, 0.9898831364354366, 0.042262622041552234, 0.765423043641446, 0.18783387574023214, 0.9855257512320166, 0.28864249460246333, 0.7069649505480624, 0.9215814644132305, 0.9556915168539736, 0.9517189613766873, 0.5552294330599389, 0.44035437794408944, 0.988285212287934, 0.9728216192899648, 0.9261589153232087, 0.981776471994908, 0.01429771561157633, 0.4805480676891078, 0.16819182369118774, 0.3363836473823755, 0.23340706365998498, 0.23340706365998498, 0.5446164818732983, 0.9813263444961823, 0.9172290534848244, 0.9564134626937401, 0.9626933199012269, 0.8506010872064311, 0.14922826091340896, 0.17759747199635392, 0.007103898879854157, 0.6748703935861449, 0.11366238207766652, 0.02841559551941663, 0.845267592191165, 0.1196590365613722, 0.8675280150699484, 0.9843444615637412, 0.9816119997562704, 0.07571682286222126, 0.9086018743466551, 0.9636461293676666, 0.9034961551102624, 0.8729421525004176, 0.9509035891482914, 0.038812391393807814, 0.9171490929268215, 0.943906206713887, 0.930857375287445, 0.07300842159117216, 0.5905418507199065, 0.3821153151717042, 0.7153049783445399, 0.7843196119380145, 0.18215942305659769, 0.02943187184757255, 0.003977279979401696, 0.0007954559958803392, 0.7348602893442185, 0.1118923074310127, 0.036289397004652765, 0.11491642384806709, 0.9807063380794895, 0.8863660015294534, 0.12180707375676392, 0.45579421147692306, 0.41650160703925726, 0.0039292604437665786, 0.9163263670598953, 0.9885554360533856, 0.9760199344071506, 0.9320414052747803, 0.05825258782967377, 0.9283377963757724, 0.8837865663512212, 0.9636549618619231, 0.9535562207033061, 0.9555544371166247, 0.036752093735254794, 0.9530015690008298, 0.005151359832436918, 0.04121087865949535, 0.9777360431294959, 0.8665231466371507, 0.09503802253439717, 0.03074759552583438, 0.005590471913788069, 0.9508731362914944, 0.11320056338926895, 0.8773043662668344, 0.8570858920865263, 0.9382979511373087, 0.9636064917484557, 0.18236207282834366, 0.8076034653826648, 0.9678347304627772, 0.9194106534934623, 0.8091022963007761, 0.7363780215776728, 0.9476094519819701, 0.9933142469194254, 0.9366420934348567, 0.9716197816317741, 0.026619720044706138, 0.3118033725186083, 0.6236067450372166, 0.03671979827142047, 0.7466358981855495, 0.1958389241142425, 0.9888207661195624, 0.5820737557794944, 0.11339099138561579, 0.30237597702830876, 0.9841337065296628, 0.9858748225982699, 0.7508489229404697, 0.11115286170417829, 0.07712647546820534, 0.05897906947568644, 0.4229505106461131, 0.18921470213115588, 0.37842940426231175, 0.880581312086325, 0.08968883734212568, 0.008153530667465972, 0.008153530667465972, 0.9221490654504131, 0.45700771716632566, 0.0415461561060296, 0.45700771716632566, 0.16615991936251331, 0.797567612940064, 0.8134148342755945, 0.18592339069156444, 0.9667885237062832, 0.9546778051281984, 0.9248309595149461, 0.5631301839978962, 0.4223476379984221, 0.7869391445059883, 0.9918720917696731, 0.8242668025121641, 0.015447520646546857, 0.973193800732452, 0.9843714861313859, 0.9387041135429275, 0.8083735392596451, 0.9568850226908748, 0.9775484732788594, 0.4876424298632267, 0.09049034780967094, 0.04021793235985375, 0.3820703574186106, 0.7715649689456051, 0.022415052847218033, 0.4483010569443607, 0.5267537419096238, 0.9912519618980051, 0.7878238171472205, 0.43816953646699885, 0.35336252940887003, 0.028269002352709603, 0.1837485152926124, 0.5616933402624145, 0.4186205083087806, 0.021195975104242055, 0.5735906225587556, 0.3467226897556657, 0.07704948661237015, 0.9438859252606524, 0.9928149779703267, 0.7582172099571313, 0.21208873005793882, 0.026511091257242353, 0.9135752761873096, 0.4847794313731532, 0.1240133429094113, 0.3833139689927258, 0.9769055679458191, 0.9580404511567108, 0.03421573039845396, 0.9845433269192602, 0.5266958604281633, 0.11521471946866073, 0.016459245638380103, 0.14813321074542093, 0.19751094766056124, 0.964137283044879, 0.6049382756143499, 0.09452160556474218, 0.018904321112948434, 0.2646604955812781, 0.1980855061605174, 0.7923420246420696, 0.8181009562303051, 0.9715565480594504, 0.9674472942397104, 0.9990591204922534, 0.9020561503789026, 0.9603295238784703, 0.9855291183007675, 0.8760632372011417, 0.11570646529071682, 0.02652331384630678, 0.9548392984670442, 0.9737270635173663, 0.9705827823275465, 0.9392720821422956, 0.24319421548082087, 0.6173391623743915, 0.1309507314127497, 0.30493730842750105, 0.6098746168550021, 0.9538078212647908, 0.9470548529065405, 0.68153364562421, 0.31455399028809694, 0.8617089209834333, 0.5202736073655777, 0.004590649476755097, 0.3091037314348432, 0.1484309997484148, 0.018362597907020387, 0.9847545467467779, 0.018580274466920337, 0.16744398127057053, 0.7441954723136468, 0.09302443403920585, 0.7440817087207301, 0.24802723624024337, 0.4296131101631122, 0.23765831626044506, 0.15767715213433375, 0.173673384959556, 0.8504444860387079, 0.34677889301995996, 0.27742311441596795, 0.38145678232195596, 0.9745155554970171, 0.8513699260458087, 0.1277054889068713, 0.13726922164990954, 0.3946490122434899, 0.45470429671532536, 0.9605700847450322, 0.04176391672804488, 0.9949657857616314, 0.9604939068704533, 0.4901765402251611, 0.0906208729828029, 0.21007566009649764, 0.041191305901274046, 0.14416957065445915, 0.020595652950637023, 0.9900222266856851, 0.9168459575605228, 0.5895047886971693, 0.05359134442701539, 0.32154806656209234, 0.8754254902358931, 0.8867122183990088, 0.9916992387253627, 0.9894046276747333, 0.3571254980427443, 0.5786337183477376, 0.0632880629442838, 0.29338815697922427, 0.6193749980672513, 0.08149671027200674, 0.1324294779494008, 0.8681487998905164, 0.7244741174415983, 0.18942671878060138, 0.056495688057372345, 0.02658620614464581, 0.0033232757680807263, 0.09491172471313367, 0.8779334535964864, 0.944414298462061, 0.4724609222627837, 0.5256127760173468, 0.28259103442481875, 0.717346472001463, 0.5128139932117803, 0.16259955882324745, 0.08129977941162372, 0.24389933823487117, 0.033340643114859465, 0.933538007216065, 0.918311919048057, 0.9651617845748401, 0.9902595630695242, 0.11441698578947891, 0.08581273934210919, 0.7723146540789827, 0.9449102277933585, 0.04230941318477725, 0.1175153964487794, 0.8617795739577155, 0.9894742445616196, 0.98901504270589, 0.8825386773967503, 0.1586749412469972, 0.03173498824939944, 0.793374706234986, 0.8873748552573479, 0.7147633096530003, 0.18502738157684048, 0.0709694066322128, 0.02788083831979788, 0.9787141614677346, 0.9689790872351899, 0.9882839180957673, 0.005882642369617662, 0.2901439095575622, 0.6383166010266368, 0.07092406678073743, 0.4041488488983625, 0.18523488907841615, 0.41256861658374505, 0.2576435631128958, 0.7085197985604634, 0.9683304713936147], \"Term\": [\"\\\"\", \"\\\"\", \"'\", \"I\", \"I\", \"I\", \"I\", \"abu\", \"abu\", \"abu\", \"acceptable\", \"adequate\", \"adult\", \"aircraft\", \"aircraft\", \"aircraft\", \"airline\", \"airline\", \"airline\", \"airline\", \"airways\", \"airways\", \"airways\", \"aisle\", \"aisle\", \"american\", \"amsterdam\", \"anymore\", \"arrive\", \"arrive\", \"ask\", \"ask\", \"ask\", \"atlantic\", \"attendant\", \"attendant\", \"awouldwouldwould\", \"ba\", \"ba\", \"ba\", \"ba\", \"ba\", \"bad\", \"bad\", \"bad\", \"bad\", \"bad\", \"bag\", \"bag\", \"baggage\", \"baggage\", \"baggage\", \"bark\", \"bed\", \"book\", \"book\", \"booking\", \"box\", \"brazil\", \"breakfast\", \"breakfast\", \"british\", \"british\", \"british\", \"budapest\", \"business\", \"business\", \"business\", \"business\", \"business\", \"buy\", \"cabin\", \"cabin\", \"cabin\", \"cancel\", \"cancel\", \"cancel\", \"carrier\", \"carry\", \"carryon\", \"case\", \"cathay\", \"cathay\", \"ceo\", \"certainly\", \"champagne\", \"change\", \"change\", \"change\", \"chaotic\", \"cheap\", \"cheap\", \"cheat\", \"check\", \"check\", \"check\", \"check\", \"check\", \"checkin\", \"checkin\", \"checkin\", \"cheese\", \"chicken\", \"choice\", \"choice\", \"choice\", \"class\", \"class\", \"class\", \"class\", \"club\", \"coffee\", \"comfort\", \"comfortable\", \"comparison\", \"compensate\", \"connect\", \"crew\", \"crew\", \"crew\", \"cup\", \"customer\", \"customer\", \"dallas\", \"damage\", \"daughter\", \"day\", \"day\", \"decent\", \"deck\", \"degree\", \"delay\", \"delay\", \"desk\", \"desk\", \"desk\", \"dhabi\", \"dhabi\", \"dhabi\", \"disappoint\", \"disaster\", \"disembarkation\", \"downgrade\", \"drink\", \"drink\", \"economy\", \"economy\", \"economy\", \"economy\", \"economy\", \"efficiently\", \"email\", \"email\", \"end\", \"especially\", \"europe\", \"europe\", \"eurowing\", \"evidence\", \"exclusive\", \"explain\", \"explain\", \"fa\", \"fantastic\", \"fare\", \"fare\", \"fine\", \"fine\", \"firm\", \"flight\", \"flight\", \"flight\", \"flight\", \"flight\", \"fly\", \"fly\", \"fly\", \"fly\", \"flyer\", \"following\", \"food\", \"food\", \"food\", \"food\", \"france\", \"free\", \"frequent\", \"friendly\", \"friendly\", \"geneva\", \"gold\", \"grubby\", \"hamburg\", \"hand\", \"hand\", \"heathrow\", \"heathrow\", \"heathrow\", \"hot\", \"hour\", \"hour\", \"hour\", \"hour\", \"iberia\", \"ife\", \"ife\", \"immigration\", \"improve\", \"inbound\", \"issue\", \"issue\", \"jfk\", \"joke\", \"justify\", \"kg\", \"kwould\", \"lady\", \"lago\", \"late\", \"late\", \"layover\", \"layover\", \"leg\", \"leg\", \"leg\", \"legroom\", \"like\", \"like\", \"like\", \"limited\", \"locker\", \"london\", \"london\", \"london\", \"london\", \"lounge\", \"lounge\", \"lounge\", \"luggage\", \"luggage\", \"luggage\", \"luggage\", \"madeira\", \"madrid\", \"madrid\", \"madrid\", \"main\", \"main\", \"meal\", \"meal\", \"menu\", \"message\", \"miami\", \"middle\", \"middle\", \"minimum\", \"miss\", \"mix\", \"month\", \"month\", \"movie\", \"narrow\", \"needless\", \"numerous\", \"occasion\", \"offer\", \"offer\", \"offer\", \"offer\", \"offload\", \"old\", \"old\", \"old\", \"open\", \"outdated\", \"pass\", \"pass\", \"pass\", \"pass\", \"passenger\", \"passenger\", \"passenger\", \"pay\", \"pay\", \"pay\", \"perfect\", \"phone\", \"plane\", \"plane\", \"plane\", \"plastic\", \"poor\", \"poor\", \"poor\", \"pretty\", \"priority\", \"priority\", \"product\", \"provide\", \"provide\", \"provide\", \"provide\", \"provide\", \"qanta\", \"queue\", \"queue\", \"queue\", \"queue\", \"raise\", \"raise\", \"ready\", \"realise\", \"rebook\", \"refund\", \"reimburse\", \"remain\", \"reply\", \"request\", \"request\", \"response\", \"response\", \"responsibility\", \"review\", \"rip\", \"row\", \"row\", \"row\", \"ryanair\", \"ryanair\", \"sad\", \"sandwich\", \"screen\", \"screen\", \"screening\", \"seat\", \"seat\", \"seat\", \"seat\", \"seat\", \"security\", \"security\", \"selection\", \"selection\", \"selection\", \"serve\", \"serve\", \"service\", \"service\", \"service\", \"service\", \"shut\", \"singapore\", \"singapore\", \"singapore\", \"situation\", \"sleep\", \"sleep\", \"small\", \"small\", \"small\", \"snack\", \"snack\", \"speak\", \"split\", \"staff\", \"staff\", \"staff\", \"staff\", \"staff\", \"staff\", \"stay\", \"stewardess\", \"stick\", \"stick\", \"stick\", \"stretch\", \"taxi\", \"tea\", \"team\", \"tell\", \"tell\", \"tell\", \"terminal\", \"terminal\", \"terminal\", \"ticket\", \"ticket\", \"time\", \"time\", \"time\", \"time\", \"time\", \"toilet\", \"toilet\", \"tokyo\", \"travel\", \"travel\", \"try\", \"try\", \"use\", \"use\", \"use\", \"use\", \"value\", \"value\", \"vegan\", \"virgin\", \"voucher\", \"waste\", \"waste\", \"waste\", \"water\", \"water\", \"wear\", \"wear\", \"week\", \"window\", \"wish\", \"world\", \"world\", \"world\", \"wouldrd\", \"wouldwould\", \"wouldwould\", \"wouldwould\", \"wouldwould\", \"wouldwouldkg\", \"wouldwouldth\", \"wouldwouldwould\", \"wouldwouldwould\", \"wouldwouldwouldwould\", \"wouldwouldwouldwould\", \"wouldwouldwouldwould\", \"year\", \"year\", \"year\", \"york\", \"york\", \"\\u2013\"]}, \"R\": 20, \"lambda.step\": 0.01, \"plot.opts\": {\"xlab\": \"PC1\", \"ylab\": \"PC2\"}, \"topic.order\": [5, 2, 7, 1, 4, 6, 3]};\n",
              "\n",
              "function LDAvis_load_lib(url, callback){\n",
              "  var s = document.createElement('script');\n",
              "  s.src = url;\n",
              "  s.async = true;\n",
              "  s.onreadystatechange = s.onload = callback;\n",
              "  s.onerror = function(){console.warn(\"failed to load library \" + url);};\n",
              "  document.getElementsByTagName(\"head\")[0].appendChild(s);\n",
              "}\n",
              "\n",
              "if(typeof(LDAvis) !== \"undefined\"){\n",
              "   // already loaded: just create the visualization\n",
              "   !function(LDAvis){\n",
              "       new LDAvis(\"#\" + \"ldavis_el4691406581076952805898538964\", ldavis_el4691406581076952805898538964_data);\n",
              "   }(LDAvis);\n",
              "}else if(typeof define === \"function\" && define.amd){\n",
              "   // require.js is available: use it to load d3/LDAvis\n",
              "   require.config({paths: {d3: \"https://d3js.org/d3.v5\"}});\n",
              "   require([\"d3\"], function(d3){\n",
              "      window.d3 = d3;\n",
              "      LDAvis_load_lib(\"https://cdn.jsdelivr.net/gh/bmabey/pyLDAvis@3.3.1/pyLDAvis/js/ldavis.v3.0.0.js\", function(){\n",
              "        new LDAvis(\"#\" + \"ldavis_el4691406581076952805898538964\", ldavis_el4691406581076952805898538964_data);\n",
              "      });\n",
              "    });\n",
              "}else{\n",
              "    // require.js not available: dynamically load d3 & LDAvis\n",
              "    LDAvis_load_lib(\"https://d3js.org/d3.v5.js\", function(){\n",
              "         LDAvis_load_lib(\"https://cdn.jsdelivr.net/gh/bmabey/pyLDAvis@3.3.1/pyLDAvis/js/ldavis.v3.0.0.js\", function(){\n",
              "                 new LDAvis(\"#\" + \"ldavis_el4691406581076952805898538964\", ldavis_el4691406581076952805898538964_data);\n",
              "            })\n",
              "         });\n",
              "}\n",
              "</script>"
            ]
          },
          "metadata": {},
          "execution_count": 124
        }
      ]
    },
    {
      "cell_type": "code",
      "source": [
        "# Compute Coherence Score\n",
        "coherence_model_lda = CoherenceModel(model=lda_model, texts=text_data, dictionary=id2word, coherence='c_v')\n",
        "coherence_lda = coherence_model_lda.get_coherence()\n",
        "print('nCoherence Score: ', coherence_lda)\n"
      ],
      "metadata": {
        "colab": {
          "base_uri": "https://localhost:8080/"
        },
        "id": "isjlXDXSDomB",
        "outputId": "4eb6390e-713b-4c07-e265-ff149897fb31"
      },
      "execution_count": null,
      "outputs": [
        {
          "output_type": "stream",
          "name": "stdout",
          "text": [
            "nCoherence Score:  0.48290578918834876\n"
          ]
        }
      ]
    },
    {
      "cell_type": "code",
      "source": [
        "vis.topic_info[vis.topic_info.Term == 'service']"
      ],
      "metadata": {
        "colab": {
          "base_uri": "https://localhost:8080/",
          "height": 175
        },
        "id": "ZKHI5IDfGGwf",
        "outputId": "3aca9199-6a3e-40be-f6e5-2fc8aea27750"
      },
      "execution_count": null,
      "outputs": [
        {
          "output_type": "execute_result",
          "data": {
            "text/plain": [
              "        Term        Freq       Total Category  logprob  loglift\n",
              "105  service  188.401150  437.603033   Topic1  -4.5876   0.0664\n",
              "105  service  104.047242  437.603033   Topic2  -4.6447   0.0093\n",
              "105  service   68.961503  437.603033   Topic3  -4.6612  -0.0071\n",
              "105  service   75.930540  437.603033   Topic4  -4.3334   0.3206"
            ],
            "text/html": [
              "\n",
              "  <div id=\"df-bd43eff3-3c3c-4bc2-acd1-a0d817138f43\">\n",
              "    <div class=\"colab-df-container\">\n",
              "      <div>\n",
              "<style scoped>\n",
              "    .dataframe tbody tr th:only-of-type {\n",
              "        vertical-align: middle;\n",
              "    }\n",
              "\n",
              "    .dataframe tbody tr th {\n",
              "        vertical-align: top;\n",
              "    }\n",
              "\n",
              "    .dataframe thead th {\n",
              "        text-align: right;\n",
              "    }\n",
              "</style>\n",
              "<table border=\"1\" class=\"dataframe\">\n",
              "  <thead>\n",
              "    <tr style=\"text-align: right;\">\n",
              "      <th></th>\n",
              "      <th>Term</th>\n",
              "      <th>Freq</th>\n",
              "      <th>Total</th>\n",
              "      <th>Category</th>\n",
              "      <th>logprob</th>\n",
              "      <th>loglift</th>\n",
              "    </tr>\n",
              "  </thead>\n",
              "  <tbody>\n",
              "    <tr>\n",
              "      <th>105</th>\n",
              "      <td>service</td>\n",
              "      <td>188.401150</td>\n",
              "      <td>437.603033</td>\n",
              "      <td>Topic1</td>\n",
              "      <td>-4.5876</td>\n",
              "      <td>0.0664</td>\n",
              "    </tr>\n",
              "    <tr>\n",
              "      <th>105</th>\n",
              "      <td>service</td>\n",
              "      <td>104.047242</td>\n",
              "      <td>437.603033</td>\n",
              "      <td>Topic2</td>\n",
              "      <td>-4.6447</td>\n",
              "      <td>0.0093</td>\n",
              "    </tr>\n",
              "    <tr>\n",
              "      <th>105</th>\n",
              "      <td>service</td>\n",
              "      <td>68.961503</td>\n",
              "      <td>437.603033</td>\n",
              "      <td>Topic3</td>\n",
              "      <td>-4.6612</td>\n",
              "      <td>-0.0071</td>\n",
              "    </tr>\n",
              "    <tr>\n",
              "      <th>105</th>\n",
              "      <td>service</td>\n",
              "      <td>75.930540</td>\n",
              "      <td>437.603033</td>\n",
              "      <td>Topic4</td>\n",
              "      <td>-4.3334</td>\n",
              "      <td>0.3206</td>\n",
              "    </tr>\n",
              "  </tbody>\n",
              "</table>\n",
              "</div>\n",
              "      <button class=\"colab-df-convert\" onclick=\"convertToInteractive('df-bd43eff3-3c3c-4bc2-acd1-a0d817138f43')\"\n",
              "              title=\"Convert this dataframe to an interactive table.\"\n",
              "              style=\"display:none;\">\n",
              "        \n",
              "  <svg xmlns=\"http://www.w3.org/2000/svg\" height=\"24px\"viewBox=\"0 0 24 24\"\n",
              "       width=\"24px\">\n",
              "    <path d=\"M0 0h24v24H0V0z\" fill=\"none\"/>\n",
              "    <path d=\"M18.56 5.44l.94 2.06.94-2.06 2.06-.94-2.06-.94-.94-2.06-.94 2.06-2.06.94zm-11 1L8.5 8.5l.94-2.06 2.06-.94-2.06-.94L8.5 2.5l-.94 2.06-2.06.94zm10 10l.94 2.06.94-2.06 2.06-.94-2.06-.94-.94-2.06-.94 2.06-2.06.94z\"/><path d=\"M17.41 7.96l-1.37-1.37c-.4-.4-.92-.59-1.43-.59-.52 0-1.04.2-1.43.59L10.3 9.45l-7.72 7.72c-.78.78-.78 2.05 0 2.83L4 21.41c.39.39.9.59 1.41.59.51 0 1.02-.2 1.41-.59l7.78-7.78 2.81-2.81c.8-.78.8-2.07 0-2.86zM5.41 20L4 18.59l7.72-7.72 1.47 1.35L5.41 20z\"/>\n",
              "  </svg>\n",
              "      </button>\n",
              "      \n",
              "  <style>\n",
              "    .colab-df-container {\n",
              "      display:flex;\n",
              "      flex-wrap:wrap;\n",
              "      gap: 12px;\n",
              "    }\n",
              "\n",
              "    .colab-df-convert {\n",
              "      background-color: #E8F0FE;\n",
              "      border: none;\n",
              "      border-radius: 50%;\n",
              "      cursor: pointer;\n",
              "      display: none;\n",
              "      fill: #1967D2;\n",
              "      height: 32px;\n",
              "      padding: 0 0 0 0;\n",
              "      width: 32px;\n",
              "    }\n",
              "\n",
              "    .colab-df-convert:hover {\n",
              "      background-color: #E2EBFA;\n",
              "      box-shadow: 0px 1px 2px rgba(60, 64, 67, 0.3), 0px 1px 3px 1px rgba(60, 64, 67, 0.15);\n",
              "      fill: #174EA6;\n",
              "    }\n",
              "\n",
              "    [theme=dark] .colab-df-convert {\n",
              "      background-color: #3B4455;\n",
              "      fill: #D2E3FC;\n",
              "    }\n",
              "\n",
              "    [theme=dark] .colab-df-convert:hover {\n",
              "      background-color: #434B5C;\n",
              "      box-shadow: 0px 1px 3px 1px rgba(0, 0, 0, 0.15);\n",
              "      filter: drop-shadow(0px 1px 2px rgba(0, 0, 0, 0.3));\n",
              "      fill: #FFFFFF;\n",
              "    }\n",
              "  </style>\n",
              "\n",
              "      <script>\n",
              "        const buttonEl =\n",
              "          document.querySelector('#df-bd43eff3-3c3c-4bc2-acd1-a0d817138f43 button.colab-df-convert');\n",
              "        buttonEl.style.display =\n",
              "          google.colab.kernel.accessAllowed ? 'block' : 'none';\n",
              "\n",
              "        async function convertToInteractive(key) {\n",
              "          const element = document.querySelector('#df-bd43eff3-3c3c-4bc2-acd1-a0d817138f43');\n",
              "          const dataTable =\n",
              "            await google.colab.kernel.invokeFunction('convertToInteractive',\n",
              "                                                     [key], {});\n",
              "          if (!dataTable) return;\n",
              "\n",
              "          const docLinkHtml = 'Like what you see? Visit the ' +\n",
              "            '<a target=\"_blank\" href=https://colab.research.google.com/notebooks/data_table.ipynb>data table notebook</a>'\n",
              "            + ' to learn more about interactive tables.';\n",
              "          element.innerHTML = '';\n",
              "          dataTable['output_type'] = 'display_data';\n",
              "          await google.colab.output.renderOutput(dataTable, element);\n",
              "          const docLink = document.createElement('div');\n",
              "          docLink.innerHTML = docLinkHtml;\n",
              "          element.appendChild(docLink);\n",
              "        }\n",
              "      </script>\n",
              "    </div>\n",
              "  </div>\n",
              "  "
            ]
          },
          "metadata": {},
          "execution_count": 154
        }
      ]
    },
    {
      "cell_type": "code",
      "source": [],
      "metadata": {
        "id": "4Yv7Vb3bG6yt"
      },
      "execution_count": null,
      "outputs": []
    }
  ]
}